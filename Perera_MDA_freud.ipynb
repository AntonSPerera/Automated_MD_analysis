{
 "cells": [
  {
   "cell_type": "code",
   "execution_count": 1,
   "id": "center-physiology",
   "metadata": {},
   "outputs": [
    {
     "data": {
      "application/vnd.jupyter.widget-view+json": {
       "model_id": "71dff540a5e64d4197540b810ad2d9fb",
       "version_major": 2,
       "version_minor": 0
      },
      "text/plain": []
     },
     "metadata": {},
     "output_type": "display_data"
    }
   ],
   "source": [
    "import MDAnalysis as mda\n",
    "\n",
    "import numpy as np \n",
    "import pandas as pd\n",
    "\n",
    "import matplotlib.pyplot as plt\n",
    "import seaborn as sns\n",
    "import nglview as nv"
   ]
  },
  {
   "cell_type": "code",
   "execution_count": 2,
   "id": "bridal-classic",
   "metadata": {
    "scrolled": true
   },
   "outputs": [
    {
     "name": "stdout",
     "output_type": "stream",
     "text": [
      "<Universe with 83820 atoms>\n",
      "74990\n"
     ]
    }
   ],
   "source": [
    "BETI_U = mda.Universe(\"NPT_RP.tpr\",\"NPT_RP.trr\")\n",
    "print(BETI_U)\n",
    "print(len(BETI_U.trajectory))\n",
    "#BETI_AG = BETI_U.atoms"
   ]
  },
  {
   "cell_type": "code",
   "execution_count": 3,
   "id": "computational-marijuana",
   "metadata": {},
   "outputs": [
    {
     "name": "stderr",
     "output_type": "stream",
     "text": [
      "/home/aspe232/miniconda3/lib/python3.8/site-packages/MDAnalysis/core/topologyattrs.py:2011: VisibleDeprecationWarning: Creating an ndarray from ragged nested sequences (which is a list-or-tuple of lists-or-tuples-or ndarrays with different lengths or shapes) is deprecated. If you meant to do this, you must specify 'dtype=object' when creating the ndarray.\n",
      "  np.array(sorted(unique_bonds)), 4)\n",
      "/home/aspe232/miniconda3/lib/python3.8/site-packages/MDAnalysis/core/topologyobjects.py:600: DeprecationWarning: `np.bool` is a deprecated alias for the builtin `bool`. To silence this warning, use `bool` by itself. Doing this will not modify any behavior and is safe. If you specifically wanted the numpy scalar type, use `np.bool_` here.\n",
      "Deprecated in NumPy 1.20; for more details and guidance: https://numpy.org/devdocs/release/1.20.0-notes.html#deprecations\n",
      "  guessed = np.asarray(guessed, dtype=np.bool)\n"
     ]
    }
   ],
   "source": [
    "from MDAnalysis import transformations\n",
    "workflow = mda.transformations.unwrap(BETI_U.atoms)\n",
    "BETI_U.trajectory.add_transformations(workflow)"
   ]
  },
  {
   "cell_type": "code",
   "execution_count": 4,
   "id": "institutional-effort",
   "metadata": {},
   "outputs": [],
   "source": [
    "iew_BETI_U=nv.show_mdanalysis(BETI_U)\n",
    "view_BETI_U"
   ]
  },
  {
   "cell_type": "code",
   "execution_count": 5,
   "id": "delayed-negative",
   "metadata": {
    "scrolled": true
   },
   "outputs": [
    {
     "name": "stderr",
     "output_type": "stream",
     "text": [
      "/home/aspe232/miniconda3/lib/python3.8/site-packages/MDAnalysis/core/selection.py:521: DeprecationWarning: `np.bool` is a deprecated alias for the builtin `bool`. To silence this warning, use `bool` by itself. Doing this will not modify any behavior and is safe. If you specifically wanted the numpy scalar type, use `np.bool_` here.\n",
      "Deprecated in NumPy 1.20; for more details and guidance: https://numpy.org/devdocs/release/1.20.0-notes.html#deprecations\n",
      "  mask = np.zeros(len(group), dtype=np.bool)\n"
     ]
    }
   ],
   "source": [
    "BETI = BETI_U.select_atoms('resname BETI')\n",
    "MEEPT = BETI_U.select_atoms('resname MEC')\n",
    "ACN = BETI_U.select_atoms('resname ACN')\n",
    "MEEPT_BETI = BETI_U.select_atoms('resname MEC or resname BETI')"
   ]
  },
  {
   "cell_type": "code",
   "execution_count": 6,
   "id": "animated-camcorder",
   "metadata": {},
   "outputs": [],
   "source": [
    "#view_MEEPT=nv.show_mdanalysis(MEEPT)\n",
    "#view_MEEPT"
   ]
  },
  {
   "cell_type": "code",
   "execution_count": null,
   "id": "aging-cardiff",
   "metadata": {
    "scrolled": false
   },
   "outputs": [],
   "source": [
    "view_MEEPT_BETI=nv.show_mdanalysis(MEEPT_BETI,gui=True)\n",
    "view_MEEPT_BETI"
   ]
  },
  {
   "cell_type": "code",
   "execution_count": 8,
   "id": "thorough-venice",
   "metadata": {},
   "outputs": [
    {
     "name": "stdout",
     "output_type": "stream",
     "text": [
      "You have to install moviepy, imageio and ffmeg\n",
      "pip install moviepy==0.2.2.11\n",
      "pip install imageio==1.6\n"
     ]
    }
   ],
   "source": [
    "from nglview.contrib.movie import MovieMaker\n",
    "\n",
    "movie = MovieMaker(view_MEEPT_BETI, fps=24, output='MEEPT_BETI.gif')"
   ]
  },
  {
   "cell_type": "code",
   "execution_count": 9,
   "id": "given-coaching",
   "metadata": {},
   "outputs": [
    {
     "name": "stderr",
     "output_type": "stream",
     "text": [
      "/home/aspe232/miniconda3/lib/python3.8/site-packages/MDAnalysis/core/topologyattrs.py:2011: VisibleDeprecationWarning: Creating an ndarray from ragged nested sequences (which is a list-or-tuple of lists-or-tuples-or ndarrays with different lengths or shapes) is deprecated. If you meant to do this, you must specify 'dtype=object' when creating the ndarray.\n",
      "  np.array(sorted(unique_bonds)), 4)\n",
      "/home/aspe232/miniconda3/lib/python3.8/site-packages/MDAnalysis/core/topologyobjects.py:600: DeprecationWarning: `np.bool` is a deprecated alias for the builtin `bool`. To silence this warning, use `bool` by itself. Doing this will not modify any behavior and is safe. If you specifically wanted the numpy scalar type, use `np.bool_` here.\n",
      "Deprecated in NumPy 1.20; for more details and guidance: https://numpy.org/devdocs/release/1.20.0-notes.html#deprecations\n",
      "  guessed = np.asarray(guessed, dtype=np.bool)\n"
     ]
    },
    {
     "data": {
      "application/vnd.jupyter.widget-view+json": {
       "model_id": "0a8f138708c74fd6b655be1c50988e0d",
       "version_major": 2,
       "version_minor": 0
      },
      "text/plain": [
       "IntProgress(value=0, description='Rendering ...', max=74989)"
      ]
     },
     "metadata": {},
     "output_type": "display_data"
    }
   ],
   "source": [
    "movie.make()"
   ]
  },
  {
   "cell_type": "markdown",
   "id": "architectural-interval",
   "metadata": {},
   "source": [
    "from MDAnalysis.analysis import rdf\n",
    "import matplotlib.pyplot as plt\n",
    "%matplotlib inline\n",
    "\n",
    "irdf = rdf.InterRDF(BETI, MEEPT,\n",
    "                    nbins=75,  # default\n",
    "                    range=(0.0, 15.0),  # distance in angstroms\n",
    "                   )\n",
    "irdf.run()\n"
   ]
  },
  {
   "cell_type": "markdown",
   "id": "grateful-kazakhstan",
   "metadata": {},
   "source": [
    "plt.plot(irdf.bins, irdf.rdf)\n",
    "plt.xlabel('Radius (angstrom)')\n",
    "plt.ylabel('Radial distribution')"
   ]
  },
  {
   "cell_type": "markdown",
   "id": "humanitarian-african",
   "metadata": {},
   "source": [
    "MEEPT_BETI_avg = np.zeros_like(MEEPT_BETI.positions)\n",
    "for ts in BETI_U.trajectory:\n",
    "    MEEPT_BETI_avg += MEEPT_BETI.positions\n",
    "    MEEPT_BETI_avg /= BETI_U.trajectory\n",
    "\n",
    "MEEPT_BETI.set_positions(BETI_avg)\n",
    "\n",
    "MEEPT_BETI.write(\"MEEPT_BETI_only_avg.pdb\")\n",
    "\n",
    "BETI_U.trajectory.rewind()"
   ]
  }
 ],
 "metadata": {
  "kernelspec": {
   "display_name": "Python 3",
   "language": "python",
   "name": "python3"
  },
  "language_info": {
   "codemirror_mode": {
    "name": "ipython",
    "version": 3
   },
   "file_extension": ".py",
   "mimetype": "text/x-python",
   "name": "python",
   "nbconvert_exporter": "python",
   "pygments_lexer": "ipython3",
   "version": "3.8.3"
  }
 },
 "nbformat": 4,
 "nbformat_minor": 5
}
